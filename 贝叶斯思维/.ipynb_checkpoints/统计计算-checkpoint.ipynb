{
 "cells": [
  {
   "cell_type": "markdown",
   "metadata": {},
   "source": [
    "# 统计计算"
   ]
  },
  {
   "cell_type": "markdown",
   "metadata": {},
   "source": [
    "## 分布"
   ]
  },
  {
   "cell_type": "markdown",
   "metadata": {},
   "source": [
    "## 曲奇饼问题 - Pmf解决"
   ]
  },
  {
   "cell_type": "markdown",
   "metadata": {},
   "source": [
    "问题：有两个碗，碗1中有30个香草曲奇，10个巧克力曲奇，碗2中各有20个，问随便拿一个曲奇，从碗1取到香草的概率是多少？"
   ]
  },
  {
   "cell_type": "code",
   "execution_count": 15,
   "metadata": {},
   "outputs": [
    {
     "data": {
      "text/plain": [
       "0.6000000000000001"
      ]
     },
     "execution_count": 15,
     "metadata": {},
     "output_type": "execute_result"
    }
   ],
   "source": [
    "# 可能1：碗1，可能2：碗2\n",
    "from code.thinkbayes import Pmf\n",
    "pmf = Pmf() # 创建概率质量函数对象\n",
    "pmf.Set('Bowl 1',0.5) # 创建可能1，先验概率为0.5\n",
    "pmf.Set('Bowl 2',0.5) # 创建可能2，先验概率为0.5\n",
    "pmf.Mult('Bowl 1',0.75) # 可能1乘以似然度0.75\n",
    "pmf.Mult('Bowl 2',0.5) # 可能1乘以似然度0.5\n",
    "pmf.Normalize()\n",
    "pmf.Prob('Bowl 1')"
   ]
  },
  {
   "cell_type": "markdown",
   "metadata": {},
   "source": [
    "## M&M问题 - Pmf解决"
   ]
  },
  {
   "cell_type": "markdown",
   "metadata": {},
   "source": [
    "问题：有两袋M&M豆，94袋中30%褐色，20%黄色，20%红色，10%绿色，10%橙色，10%黄褐色，96袋中24%蓝色，20%绿色，16%橙色，14%黄色，13%红色，13%褐色，从两袋中各取一个豆，一个是黄色，一个是绿色，问黄色豆来自94年的袋子的概率是多少？"
   ]
  },
  {
   "cell_type": "code",
   "execution_count": 14,
   "metadata": {},
   "outputs": [
    {
     "data": {
      "text/plain": [
       "0.7407407407407408"
      ]
     },
     "execution_count": 14,
     "metadata": {},
     "output_type": "execute_result"
    }
   ],
   "source": [
    "# 可能1：黄色来自94，绿色来自96，可能2：黄色来自96，绿色来自94\n",
    "from code.thinkbayes import Pmf\n",
    "pmf = Pmf() # 创建概率质量函数对象\n",
    "pmf.Set('94,96',0.5) # 创建可能1，先验概率为0.5\n",
    "pmf.Set('96,94',0.5) # 创建可能2，先验概率为0.5\n",
    "pmf.Mult('94,96',0.2*0.2) # 可能1乘以似然度\n",
    "pmf.Mult('96,94',0.14*0.1) # 可能1乘以似然度\n",
    "pmf.Normalize()\n",
    "pmf.Prob('94,96')"
   ]
  },
  {
   "cell_type": "markdown",
   "metadata": {},
   "source": [
    "## Monty Hall问题 - Pmf解决"
   ]
  },
  {
   "cell_type": "markdown",
   "metadata": {},
   "source": [
    "蒙梯大厅问题：三扇门，其中一扇后有奖品，你随便挑选一扇，然后会展示剩下两扇中一扇没有奖品的门，然后你再做出选择，是保持原来的选择，还是从新选择另一扇没被打开的门；"
   ]
  },
  {
   "cell_type": "code",
   "execution_count": 19,
   "metadata": {},
   "outputs": [
    {
     "data": {
      "text/plain": [
       "0.6666666666666666"
      ]
     },
     "execution_count": 19,
     "metadata": {},
     "output_type": "execute_result"
    }
   ],
   "source": [
    "# 选手选A，Monty打开门B且奖品不在B\n",
    "# 可能1：奖品在A，可能2：奖品在B，可能3：奖品在C\n",
    "from code.thinkbayes import Pmf\n",
    "pmf = Pmf() # 创建概率质量函数对象\n",
    "pmf.Set('A',1./3) # 创建可能1，先验概率为1/3\n",
    "pmf.Set('B',1./3) # 创建可能2，先验概率为1/3\n",
    "pmf.Set('C',1./3) # 创建可能3，先验概率为1/3\n",
    "pmf.Mult('A',1./2) # 可能1乘以似然度\n",
    "pmf.Mult('B',0) # 可能1乘以似然度\n",
    "pmf.Mult('C',1) # 可能1乘以似然度\n",
    "pmf.Normalize()\n",
    "pmf.Prob('C') # 即选手改变自己的选择(由于B是被Monty打开的，因此选手只能改为C)的话选中概率"
   ]
  }
 ],
 "metadata": {
  "kernelspec": {
   "display_name": "Python 2",
   "language": "python",
   "name": "python2"
  },
  "language_info": {
   "codemirror_mode": {
    "name": "ipython",
    "version": 2
   },
   "file_extension": ".py",
   "mimetype": "text/x-python",
   "name": "python",
   "nbconvert_exporter": "python",
   "pygments_lexer": "ipython2",
   "version": "2.7.13"
  },
  "toc": {
   "nav_menu": {},
   "number_sections": true,
   "sideBar": true,
   "skip_h1_title": false,
   "title_cell": "Table of Contents",
   "title_sidebar": "Contents",
   "toc_cell": false,
   "toc_position": {},
   "toc_section_display": true,
   "toc_window_display": true
  }
 },
 "nbformat": 4,
 "nbformat_minor": 2
}
