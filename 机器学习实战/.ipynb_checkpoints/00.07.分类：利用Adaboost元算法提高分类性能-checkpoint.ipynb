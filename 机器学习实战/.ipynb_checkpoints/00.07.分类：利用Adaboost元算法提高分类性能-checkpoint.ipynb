{
 "cells": [
  {
   "cell_type": "markdown",
   "metadata": {},
   "source": [
    "# Adaboost\n",
    "\n",
    "所谓元算法，就是对其他算法的一种有机组合，Adaboost就是一种有名的boosting算法；"
   ]
  },
  {
   "cell_type": "code",
   "execution_count": 1,
   "metadata": {},
   "outputs": [],
   "source": [
    "from numpy import *\n",
    "\n",
    "dataPath = '../../../git_mlaction/machinelearninginaction/Ch07/'"
   ]
  },
  {
   "cell_type": "markdown",
   "metadata": {},
   "source": [
    "## 基于数据集多重抽样的分类器\n",
    "\n",
    "ensemble method，或者叫meta algorithm，即算法的算法；\n",
    "\n",
    "1. 不同分类器的组合；\n",
    "2. 同一分类器不同设置的组合；\n",
    "3. 不同数据集应用与同一/不同分类器实例的组合；\n",
    "\n",
    "即集成方法中的各个分类器，可以是算法不同、参数不同、训练数据集不同；\n",
    "\n",
    "优点：\n",
    "* 泛化错误率低；\n",
    "* 易编码实现；\n",
    "* 应用于大部分分类器上，无参数调整（参数在分类器本身上已经设置好了）；\n",
    "\n",
    "缺点：\n",
    "* 对离群点敏感；\n",
    "\n",
    "适用数据类型：数值型和标称型；"
   ]
  },
  {
   "cell_type": "markdown",
   "metadata": {},
   "source": [
    "### bagging：基于数据随机重抽样的分类器构建方法\n",
    "\n",
    "自举汇聚法（bootstrap aggregating），即bagging法，思路是从原始数据集合中有放回的重抽样S个等大小的数据集（即每个数据集中的数据都是从原始数据中有放回的抽取来的，因此可能出现某些元素重复，某些元素不存在的情况），将这S个数据集应用于某个分类算法，得到S个分类器，预测数据时，通过这S个分类器来投票表决，一些更先进的bagging算法，比如随机森林（RF）等；"
   ]
  },
  {
   "cell_type": "markdown",
   "metadata": {},
   "source": [
    "### boosting\n",
    "\n",
    "思路与bagging不同的是，boosting的每个分类器，是串行的，即每个分类器依赖于上一个分类器的分类结果，并集中关注上一个分类器分错的数据点，这一特性导致boosting的每个分类器的结果权重不是一致的，而bagging中每个分类器的权重都是一样的，典型有Adaboost；\n",
    "\n",
    "理解：可以理解为三个臭皮匠（弱分类器），比如目前有三个难题，我们的方式并不是每个臭皮匠解决一个难题（并行），而是先由臭皮匠1解决三个难题ABC，例如A对了BC错了，那么臭皮匠2就主要关注BC，A就降低关注度（样本权重更新），假如AB对了C错了，那么臭皮匠3主要关注C，次要是B，最后是A，假设ABC都对了，那么对于最终的结果，我们会更相信3号，到2号，最后是1号（分类器权重）；"
   ]
  },
  {
   "cell_type": "markdown",
   "metadata": {},
   "source": [
    "## 基于错误提升分类器的性能\n",
    "\n",
    "样本权重更新：初始都是一样的，每个分类器分类完毕后，对于分类正确的样本，降低权重，对于分类错误的样本，提高权重；\n",
    "\n",
    "分类器权重更新：可以理解为分类错误率越高，权重越低；"
   ]
  },
  {
   "cell_type": "markdown",
   "metadata": {},
   "source": [
    "## 基于单层决策树构建弱分类器\n",
    "\n",
    "所谓单层决策树，就是一个树桩，只有一次分裂过程；"
   ]
  },
  {
   "cell_type": "code",
   "execution_count": 2,
   "metadata": {},
   "outputs": [],
   "source": [
    "# 加载测试数据\n",
    "def loadSimpData():\n",
    "    dataMatrix = matrix([\n",
    "        [1., 2.1],\n",
    "        [2., 1.1],\n",
    "        [1.3, 1.],\n",
    "        [1., 1.],\n",
    "        [2., 1.]\n",
    "    ])\n",
    "    classLabels = [1., 1., -1., -1., 1.]\n",
    "    return dataMatrix, classLabels"
   ]
  }
 ],
 "metadata": {
  "kernelspec": {
   "display_name": "Python 2",
   "language": "python",
   "name": "python2"
  },
  "language_info": {
   "codemirror_mode": {
    "name": "ipython",
    "version": 2
   },
   "file_extension": ".py",
   "mimetype": "text/x-python",
   "name": "python",
   "nbconvert_exporter": "python",
   "pygments_lexer": "ipython2",
   "version": "2.7.13"
  },
  "toc": {
   "nav_menu": {},
   "number_sections": true,
   "sideBar": true,
   "skip_h1_title": false,
   "title_cell": "Table of Contents",
   "title_sidebar": "Contents",
   "toc_cell": false,
   "toc_position": {},
   "toc_section_display": true,
   "toc_window_display": false
  }
 },
 "nbformat": 4,
 "nbformat_minor": 2
}
