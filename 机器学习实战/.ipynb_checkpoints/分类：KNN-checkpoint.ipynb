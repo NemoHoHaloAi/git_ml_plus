{
 "cells": [
  {
   "cell_type": "markdown",
   "metadata": {},
   "source": [
    "# k近邻"
   ]
  },
  {
   "cell_type": "markdown",
   "metadata": {},
   "source": [
    "## 概述"
   ]
  },
  {
   "cell_type": "markdown",
   "metadata": {},
   "source": [
    "kNN算法概述：通过计算不用样本之间特征的距离值来对样本进行分类、回归；"
   ]
  },
  {
   "cell_type": "markdown",
   "metadata": {},
   "source": [
    "## 特点"
   ]
  },
  {
   "cell_type": "markdown",
   "metadata": {},
   "source": [
    "* 优点：\n",
    "    1. 精度高；\n",
    "    2. 异常值不敏感；\n",
    "    3. 无输入假设；\n",
    "    4. 无训练时间；\n",
    "* 缺点：\n",
    "    1. 计算复杂度高；\n",
    "    2. 空间复杂度高；"
   ]
  },
  {
   "cell_type": "markdown",
   "metadata": {},
   "source": [
    "## 算法流程"
   ]
  },
  {
   "cell_type": "markdown",
   "metadata": {},
   "source": [
    "算法流程：\n",
    "\t1. 拿到一组携带有目标变量的训练样本；\n",
    "\t2. 循环计算某个样本与所有目标变量的特征距离（欧氏距离、曼哈顿距离等）；\n",
    "\t3. 取距离最短的k个样本目标变量（k一般不大于20）；\n",
    "\t4. 将k个中出现最多的分类项作为对该样本的预测值（分类问题，细化可能会加入权重等先验假设）；"
   ]
  },
  {
   "cell_type": "markdown",
   "metadata": {},
   "source": [
    "## 算法实现"
   ]
  },
  {
   "cell_type": "code",
   "execution_count": 36,
   "metadata": {},
   "outputs": [],
   "source": [
    "import numpy as np\n",
    "import pandas as pd\n",
    "import operator\n",
    "import matplotlib.pyplot as plt\n",
    "import math\n",
    "\n",
    "%matplotlib inline"
   ]
  },
  {
   "cell_type": "markdown",
   "metadata": {},
   "source": [
    "### 数据导入"
   ]
  },
  {
   "cell_type": "code",
   "execution_count": 2,
   "metadata": {},
   "outputs": [],
   "source": [
    "def createDataSet():\n",
    "    group = np.array([[1.,1.1],[1.,1.],[0.,0.],[0.,0.1]])\n",
    "    labels = ['A','A','B','B']\n",
    "    return group, labels"
   ]
  },
  {
   "cell_type": "markdown",
   "metadata": {},
   "source": [
    "### 数据可视化"
   ]
  },
  {
   "cell_type": "code",
   "execution_count": 10,
   "metadata": {},
   "outputs": [
    {
     "data": {
      "text/plain": [
       "<matplotlib.collections.PathCollection at 0x7f842211bd90>"
      ]
     },
     "execution_count": 10,
     "metadata": {},
     "output_type": "execute_result"
    },
    {
     "data": {
      "image/png": "[encoded data removed]",
      "text/plain": [
       "<matplotlib.figure.Figure at 0x7f8422252810>"
      ]
     },
     "metadata": {},
     "output_type": "display_data"
    }
   ],
   "source": [
    "group, labels = createDataSet()\n",
    "plt.scatter(group[:,0],group[:,1],marker=(9, 3, 30),c=[g[0]*g[1] for g in group])"
   ]
  },
  {
   "cell_type": "markdown",
   "metadata": {},
   "source": [
    "### kNN算法"
   ]
  },
  {
   "cell_type": "code",
   "execution_count": 78,
   "metadata": {},
   "outputs": [],
   "source": [
    "def classify0(intX, dataSet, labels, k):\n",
    "    # 计算距离：欧式距离\n",
    "    distances = [math.sqrt(sum([(intX[i]-data[i])**2 for i in range(len(data))]))for data in dataSet]\n",
    "    # 排序\n",
    "    dist_label = np.array([[distances[i], labels[i]] for i in range(len(labels))])\n",
    "    dist_label = dist_label[np.argsort(dist_label[:,0])]\n",
    "    # 取到k个距离最短的\n",
    "    k_item = dist_label[:k]\n",
    "    # 取到k个中类别最多的项\n",
    "    vc = pd.value_counts(k_item[:,1], sort=False)\n",
    "    return vc.sort_values().index[-1]"
   ]
  },
  {
   "cell_type": "markdown",
   "metadata": {},
   "source": [
    "### 测试kNN算法"
   ]
  },
  {
   "cell_type": "code",
   "execution_count": 79,
   "metadata": {},
   "outputs": [
    {
     "name": "stdout",
     "output_type": "stream",
     "text": [
      "[0.1,0.1]:B\n",
      "[0.6,0.8]:A\n",
      "[0.5,0.4]:B\n"
     ]
    }
   ],
   "source": [
    "print '[0.1,0.1]:'+str(classify0(np.array([0.1,0.1]),group,labels,3))\n",
    "print '[0.6,0.8]:'+str(classify0(np.array([0.6,0.8]),group,labels,3))\n",
    "print '[0.5,0.4]:'+str(classify0(np.array([0.5,0.4]),group,labels,3))"
   ]
  },
  {
   "cell_type": "markdown",
   "metadata": {},
   "source": [
    "## 示例：使用kNN改善约会网站的配对效果"
   ]
  },
  {
   "cell_type": "code",
   "execution_count": null,
   "metadata": {},
   "outputs": [],
   "source": []
  }
 ],
 "metadata": {
  "kernelspec": {
   "display_name": "Python 2",
   "language": "python",
   "name": "python2"
  },
  "language_info": {
   "codemirror_mode": {
    "name": "ipython",
    "version": 2
   },
   "file_extension": ".py",
   "mimetype": "text/x-python",
   "name": "python",
   "nbconvert_exporter": "python",
   "pygments_lexer": "ipython2",
   "version": "2.7.13"
  },
  "toc": {
   "nav_menu": {},
   "number_sections": true,
   "sideBar": true,
   "skip_h1_title": false,
   "title_cell": "Table of Contents",
   "title_sidebar": "Contents",
   "toc_cell": false,
   "toc_position": {},
   "toc_section_display": true,
   "toc_window_display": true
  }
 },
 "nbformat": 4,
 "nbformat_minor": 2
}
