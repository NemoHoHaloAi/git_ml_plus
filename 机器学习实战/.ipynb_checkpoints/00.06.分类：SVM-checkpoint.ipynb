{
 "cells": [
  {
   "cell_type": "markdown",
   "metadata": {},
   "source": [
    "# SVM\n",
    "\n",
    "有人认为SVM是现成的最好的分类器，现成的意思是指不加修改的用于某个数据值时，就能有较低的错误率；"
   ]
  },
  {
   "cell_type": "code",
   "execution_count": 1,
   "metadata": {},
   "outputs": [],
   "source": [
    "from numpy import *\n",
    "\n",
    "dataPath = '../../../git_mlaction/machinelearninginaction/Ch06/'"
   ]
  },
  {
   "cell_type": "markdown",
   "metadata": {},
   "source": [
    "## 基于最大间隔分隔数据\n",
    "\n",
    "优点：\n",
    "* 泛化错误率低；\n",
    "* 计算开销小；\n",
    "* 结果易于理解；\n",
    "\n",
    "缺点：\n",
    "* 对参数以及核函数敏感；\n",
    "* 原始分类器不加修改只能用于二分类；\n",
    "\n",
    "使用数据类型：数值型和标称型；\n",
    "\n",
    "对于SVM算法，目的就是寻找到一个超平面（决策边界，二维数据对应的就是一条直线）将数据划分，使得支持向量的margin尽可能大（感觉又是一个求最优解的问题）；"
   ]
  },
  {
   "cell_type": "markdown",
   "metadata": {},
   "source": [
    "## 寻找最大间隔 - margin"
   ]
  },
  {
   "cell_type": "markdown",
   "metadata": {},
   "source": [
    "### 分类器求解的优化问题 - 需要深度学习其公式推导思路\n",
    "\n",
    "在某些约束条件下，求解最优值问题；"
   ]
  },
  {
   "cell_type": "markdown",
   "metadata": {},
   "source": [
    "### SVM应用的一般框架\n",
    "\n",
    "* 收集数据；\n",
    "* 准备数据：需要数值型；\n",
    "* 分析数据：有助于可视化分隔超平面；\n",
    "* 训练算法：两个参数的调优；\n",
    "* 使用算法：几乎任何分类问题都可以使用SVM，对于多分类问题，则需要修改代码去适应；"
   ]
  },
  {
   "cell_type": "markdown",
   "metadata": {},
   "source": [
    "## SMO高效优化算法"
   ]
  },
  {
   "cell_type": "markdown",
   "metadata": {},
   "source": [
    "### Platt的SMO算法\n",
    "\n",
    "最小序列优化（Sequential Minimal Optimization），用于训练SVM，基本思路是：将大优化问题分解为多个小优化问题，而这些小问题通常很容易求解，且最终效果是一致的，但是速度快很多；\n",
    "\n",
    "SMO算法原理：每次迭代中选择两个alpha进行优化处理，一旦找到一对**合适**的alpha，那么就增大其中一个同时减少另一个（因为约束条件和为0，因此一个增加，就得对应有一个减少）；"
   ]
  },
  {
   "cell_type": "markdown",
   "metadata": {},
   "source": [
    "### 应用简化版SMO算法处理小规模数据集"
   ]
  },
  {
   "cell_type": "code",
   "execution_count": 2,
   "metadata": {},
   "outputs": [],
   "source": [
    "# 加载数据\n",
    "def loadDataSet(fileName=dataPath+'testSet.txt'):\n",
    "    dataMat, labelMat = [], []\n",
    "    with open(fileName) as testFile:\n",
    "        for line in testFile.readlines():\n",
    "            words = line.strip().split()\n",
    "            dataMat.append([float(words[0]), float(words[1])])\n",
    "            labelMat.append(float(words[2]))\n",
    "    return dataMat, labelMat"
   ]
  },
  {
   "cell_type": "code",
   "execution_count": 18,
   "metadata": {},
   "outputs": [
    {
     "data": {
      "text/plain": [
       "9"
      ]
     },
     "execution_count": 18,
     "metadata": {},
     "output_type": "execute_result"
    }
   ],
   "source": [
    "# 从一个范围内选择一个不等于某个数的随机数\n",
    "def selectJrand(i, m):\n",
    "    '''\n",
    "    i:不能等于的数\n",
    "    m:范围\n",
    "    '''\n",
    "    j = i\n",
    "    while j==i:\n",
    "        j = random.randint(m)\n",
    "    return j\n",
    "\n",
    "selectJrand(3,10)"
   ]
  },
  {
   "cell_type": "code",
   "execution_count": 19,
   "metadata": {},
   "outputs": [
    {
     "name": "stdout",
     "output_type": "stream",
     "text": [
      "5\n",
      "1\n",
      "10\n"
     ]
    }
   ],
   "source": [
    "# 限制某个数的上下限\n",
    "def clipAlpha(aj, H, L):\n",
    "    '''\n",
    "    aj:待限制的数\n",
    "    H:上限\n",
    "    L:下限\n",
    "    '''\n",
    "    return H if aj > H else (L if L > aj else aj)\n",
    "\n",
    "print clipAlpha(5,10,1)\n",
    "print clipAlpha(0,10,1)\n",
    "print clipAlpha(20,10,1)"
   ]
  }
 ],
 "metadata": {
  "kernelspec": {
   "display_name": "Python 2",
   "language": "python",
   "name": "python2"
  },
  "language_info": {
   "codemirror_mode": {
    "name": "ipython",
    "version": 2
   },
   "file_extension": ".py",
   "mimetype": "text/x-python",
   "name": "python",
   "nbconvert_exporter": "python",
   "pygments_lexer": "ipython2",
   "version": "2.7.13"
  },
  "toc": {
   "nav_menu": {},
   "number_sections": true,
   "sideBar": true,
   "skip_h1_title": false,
   "title_cell": "Table of Contents",
   "title_sidebar": "Contents",
   "toc_cell": false,
   "toc_position": {},
   "toc_section_display": true,
   "toc_window_display": false
  }
 },
 "nbformat": 4,
 "nbformat_minor": 2
}
