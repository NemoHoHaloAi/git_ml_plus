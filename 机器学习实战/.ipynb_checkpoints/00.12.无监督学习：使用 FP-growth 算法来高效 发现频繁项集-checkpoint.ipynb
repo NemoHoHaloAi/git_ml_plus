{
 "cells": [
  {
   "cell_type": "markdown",
   "metadata": {},
   "source": [
    "# FP-growth高效发现频繁项集\n",
    "\n",
    "对于Apriori算法，虽然已经提升了发现频繁项集的速度，但是当我们改变频繁项集大小时，依然需要重新遍历整个数据集来重新查找频繁项集，而FP-growth算法只需要对数据进行两次遍历，理论上速度可以提升两个数量级；\n",
    "\n",
    "FP-growth算法基本流程：\n",
    "1. 构建FP树；\n",
    "2. 从FP树中挖掘频繁项集；"
   ]
  },
  {
   "cell_type": "code",
   "execution_count": 1,
   "metadata": {},
   "outputs": [],
   "source": [
    "from numpy import *\n",
    "\n",
    "import matplotlib.pyplot as plt\n",
    "\n",
    "%matplotlib inline\n",
    "\n",
    "dataPath = '../../../git_mlaction/machinelearninginaction/Ch12/'"
   ]
  },
  {
   "cell_type": "markdown",
   "metadata": {},
   "source": [
    "## FP树：用于编码数据集的有效方式\n",
    "\n",
    "典型的利用一种更合适的数据结构来结构化数据，从而使得后续对数据的操作变得更加简单、快速；\n",
    "\n",
    "* 优点：一般情况下都要快于Apriori，尤其是大数据下，普遍要快两个数量级；\n",
    "* 缺点：实现困难，在某些数据集上性能会下降；\n",
    "* 适用数据类型：标称型；\n",
    "\n"
   ]
  }
 ],
 "metadata": {
  "kernelspec": {
   "display_name": "Python 2",
   "language": "python",
   "name": "python2"
  },
  "language_info": {
   "codemirror_mode": {
    "name": "ipython",
    "version": 2
   },
   "file_extension": ".py",
   "mimetype": "text/x-python",
   "name": "python",
   "nbconvert_exporter": "python",
   "pygments_lexer": "ipython2",
   "version": "2.7.13"
  },
  "toc": {
   "nav_menu": {},
   "number_sections": true,
   "sideBar": true,
   "skip_h1_title": false,
   "title_cell": "Table of Contents",
   "title_sidebar": "Contents",
   "toc_cell": false,
   "toc_position": {},
   "toc_section_display": true,
   "toc_window_display": false
  }
 },
 "nbformat": 4,
 "nbformat_minor": 2
}
